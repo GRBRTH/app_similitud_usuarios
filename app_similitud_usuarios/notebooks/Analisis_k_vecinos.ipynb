{
  "nbformat": 4,
  "nbformat_minor": 0,
  "metadata": {
    "colab": {
      "provenance": []
    },
    "kernelspec": {
      "name": "python3",
      "display_name": "Python 3"
    },
    "language_info": {
      "name": "python"
    }
  },
  "cells": [
    {
      "cell_type": "code",
      "source": [
        "import pandas as pd"
      ],
      "metadata": {
        "id": "8yq7z4yasET8"
      },
      "execution_count": null,
      "outputs": []
    },
    {
      "cell_type": "code",
      "source": [
        "import numpy as np"
      ],
      "metadata": {
        "id": "fiLCI1xDvHes"
      },
      "execution_count": null,
      "outputs": []
    },
    {
      "cell_type": "markdown",
      "source": [
        "# Dataset con el que se desarrollará el ejercicio"
      ],
      "metadata": {
        "id": "G_rArTNLvTtq"
      }
    },
    {
      "cell_type": "code",
      "source": [
        "data = {\n",
        "    \"Usuario\": [\"Karen\", \"Camila\", \"Juan\", \"Javier\", \"Esmeralda\", \"Martín\", \"Javiera\", \"Tomás\", \"Cristhian\", \"Rodrigo\", \"Luciano\", \"Felipe\", \"Ricardo\"],\n",
        "    \"P1\": [\"Cena\", \"Cena\", \"Almuerzo\", \"Almuerzo\", \"Almuerzo\", \"Cena\", \"Desayuno\", \"Cena\", \"Desayuno\", \"Desayuno\", \"Desayuno\", \"Desayuno\", \"Almuerzo\"],\n",
        "    \"P2\": [\"Baloncesto\", \"Baloncesto\", \"Tennis\", \"Fútbol\", \"Tennis\", \"Tennis\", \"Baloncesto\", \"Tennis\", \"Baloncesto\", \"Tennis\", \"Baloncesto\", \"Fútbol\", \"Fútbol\"],\n",
        "    \"P3\": [\"Crepúsculo\", \"Crepúsculo\", \"Toma el control de tu vida\", \"Toma el control de tu vida\", \"Toma el control de tu vida\", \"El arte de la guerra\",\n",
        "           \"Toma el control de tu vida\", \"El arte de la guerra\", \"Toma el control de tu vida\", \"Crepúsculo\", \"El arte de la guerra\", \"Crepúsculo\", \"Toma el control de tu vida\"],\n",
        "    \"P4\": [\"Los cien\", \"Caos en california\", \"Los cien\", \"Dragon ball\", \"One peace\", \"Caos en california\", \"Los cien\", \"One peace\", \"One peace\", \"Caos en california\", \"Dragon ball\", \"Caos en california\", \"Dragon ball\"]\n",
        "}"
      ],
      "metadata": {
        "id": "tXQDHsvusCOG"
      },
      "execution_count": null,
      "outputs": []
    },
    {
      "cell_type": "markdown",
      "source": [
        "Uso pandas para ver el dataset en estilo tabla (por comodidad de visualización)"
      ],
      "metadata": {
        "id": "2altsxaMvbCa"
      }
    },
    {
      "cell_type": "code",
      "source": [
        "df_data = pd.DataFrame(data)\n",
        "df_data"
      ],
      "metadata": {
        "colab": {
          "base_uri": "https://localhost:8080/",
          "height": 457
        },
        "id": "c46mtgcosIxD",
        "outputId": "d1afae63-e6c6-4cf4-d807-660a5f400917"
      },
      "execution_count": null,
      "outputs": [
        {
          "output_type": "execute_result",
          "data": {
            "text/plain": [
              "      Usuario        P1          P2                          P3  \\\n",
              "0       Karen      Cena  Baloncesto                  Crepúsculo   \n",
              "1      Camila      Cena  Baloncesto                  Crepúsculo   \n",
              "2        Juan  Almuerzo      Tennis  Toma el control de tu vida   \n",
              "3      Javier  Almuerzo      Fútbol  Toma el control de tu vida   \n",
              "4   Esmeralda  Almuerzo      Tennis  Toma el control de tu vida   \n",
              "5      Martín      Cena      Tennis        El arte de la guerra   \n",
              "6     Javiera  Desayuno  Baloncesto  Toma el control de tu vida   \n",
              "7       Tomás      Cena      Tennis        El arte de la guerra   \n",
              "8   Cristhian  Desayuno  Baloncesto  Toma el control de tu vida   \n",
              "9     Rodrigo  Desayuno      Tennis                  Crepúsculo   \n",
              "10    Luciano  Desayuno  Baloncesto        El arte de la guerra   \n",
              "11     Felipe  Desayuno      Fútbol                  Crepúsculo   \n",
              "12    Ricardo  Almuerzo      Fútbol  Toma el control de tu vida   \n",
              "\n",
              "                    P4  \n",
              "0             Los cien  \n",
              "1   Caos en california  \n",
              "2             Los cien  \n",
              "3          Dragon ball  \n",
              "4            One peace  \n",
              "5   Caos en california  \n",
              "6             Los cien  \n",
              "7            One peace  \n",
              "8            One peace  \n",
              "9   Caos en california  \n",
              "10         Dragon ball  \n",
              "11  Caos en california  \n",
              "12         Dragon ball  "
            ],
            "text/html": [
              "\n",
              "  <div id=\"df-512f2af1-8e68-4bd5-ae47-a21370467df5\" class=\"colab-df-container\">\n",
              "    <div>\n",
              "<style scoped>\n",
              "    .dataframe tbody tr th:only-of-type {\n",
              "        vertical-align: middle;\n",
              "    }\n",
              "\n",
              "    .dataframe tbody tr th {\n",
              "        vertical-align: top;\n",
              "    }\n",
              "\n",
              "    .dataframe thead th {\n",
              "        text-align: right;\n",
              "    }\n",
              "</style>\n",
              "<table border=\"1\" class=\"dataframe\">\n",
              "  <thead>\n",
              "    <tr style=\"text-align: right;\">\n",
              "      <th></th>\n",
              "      <th>Usuario</th>\n",
              "      <th>P1</th>\n",
              "      <th>P2</th>\n",
              "      <th>P3</th>\n",
              "      <th>P4</th>\n",
              "    </tr>\n",
              "  </thead>\n",
              "  <tbody>\n",
              "    <tr>\n",
              "      <th>0</th>\n",
              "      <td>Karen</td>\n",
              "      <td>Cena</td>\n",
              "      <td>Baloncesto</td>\n",
              "      <td>Crepúsculo</td>\n",
              "      <td>Los cien</td>\n",
              "    </tr>\n",
              "    <tr>\n",
              "      <th>1</th>\n",
              "      <td>Camila</td>\n",
              "      <td>Cena</td>\n",
              "      <td>Baloncesto</td>\n",
              "      <td>Crepúsculo</td>\n",
              "      <td>Caos en california</td>\n",
              "    </tr>\n",
              "    <tr>\n",
              "      <th>2</th>\n",
              "      <td>Juan</td>\n",
              "      <td>Almuerzo</td>\n",
              "      <td>Tennis</td>\n",
              "      <td>Toma el control de tu vida</td>\n",
              "      <td>Los cien</td>\n",
              "    </tr>\n",
              "    <tr>\n",
              "      <th>3</th>\n",
              "      <td>Javier</td>\n",
              "      <td>Almuerzo</td>\n",
              "      <td>Fútbol</td>\n",
              "      <td>Toma el control de tu vida</td>\n",
              "      <td>Dragon ball</td>\n",
              "    </tr>\n",
              "    <tr>\n",
              "      <th>4</th>\n",
              "      <td>Esmeralda</td>\n",
              "      <td>Almuerzo</td>\n",
              "      <td>Tennis</td>\n",
              "      <td>Toma el control de tu vida</td>\n",
              "      <td>One peace</td>\n",
              "    </tr>\n",
              "    <tr>\n",
              "      <th>5</th>\n",
              "      <td>Martín</td>\n",
              "      <td>Cena</td>\n",
              "      <td>Tennis</td>\n",
              "      <td>El arte de la guerra</td>\n",
              "      <td>Caos en california</td>\n",
              "    </tr>\n",
              "    <tr>\n",
              "      <th>6</th>\n",
              "      <td>Javiera</td>\n",
              "      <td>Desayuno</td>\n",
              "      <td>Baloncesto</td>\n",
              "      <td>Toma el control de tu vida</td>\n",
              "      <td>Los cien</td>\n",
              "    </tr>\n",
              "    <tr>\n",
              "      <th>7</th>\n",
              "      <td>Tomás</td>\n",
              "      <td>Cena</td>\n",
              "      <td>Tennis</td>\n",
              "      <td>El arte de la guerra</td>\n",
              "      <td>One peace</td>\n",
              "    </tr>\n",
              "    <tr>\n",
              "      <th>8</th>\n",
              "      <td>Cristhian</td>\n",
              "      <td>Desayuno</td>\n",
              "      <td>Baloncesto</td>\n",
              "      <td>Toma el control de tu vida</td>\n",
              "      <td>One peace</td>\n",
              "    </tr>\n",
              "    <tr>\n",
              "      <th>9</th>\n",
              "      <td>Rodrigo</td>\n",
              "      <td>Desayuno</td>\n",
              "      <td>Tennis</td>\n",
              "      <td>Crepúsculo</td>\n",
              "      <td>Caos en california</td>\n",
              "    </tr>\n",
              "    <tr>\n",
              "      <th>10</th>\n",
              "      <td>Luciano</td>\n",
              "      <td>Desayuno</td>\n",
              "      <td>Baloncesto</td>\n",
              "      <td>El arte de la guerra</td>\n",
              "      <td>Dragon ball</td>\n",
              "    </tr>\n",
              "    <tr>\n",
              "      <th>11</th>\n",
              "      <td>Felipe</td>\n",
              "      <td>Desayuno</td>\n",
              "      <td>Fútbol</td>\n",
              "      <td>Crepúsculo</td>\n",
              "      <td>Caos en california</td>\n",
              "    </tr>\n",
              "    <tr>\n",
              "      <th>12</th>\n",
              "      <td>Ricardo</td>\n",
              "      <td>Almuerzo</td>\n",
              "      <td>Fútbol</td>\n",
              "      <td>Toma el control de tu vida</td>\n",
              "      <td>Dragon ball</td>\n",
              "    </tr>\n",
              "  </tbody>\n",
              "</table>\n",
              "</div>\n",
              "    <div class=\"colab-df-buttons\">\n",
              "\n",
              "  <div class=\"colab-df-container\">\n",
              "    <button class=\"colab-df-convert\" onclick=\"convertToInteractive('df-512f2af1-8e68-4bd5-ae47-a21370467df5')\"\n",
              "            title=\"Convert this dataframe to an interactive table.\"\n",
              "            style=\"display:none;\">\n",
              "\n",
              "  <svg xmlns=\"http://www.w3.org/2000/svg\" height=\"24px\" viewBox=\"0 -960 960 960\">\n",
              "    <path d=\"M120-120v-720h720v720H120Zm60-500h600v-160H180v160Zm220 220h160v-160H400v160Zm0 220h160v-160H400v160ZM180-400h160v-160H180v160Zm440 0h160v-160H620v160ZM180-180h160v-160H180v160Zm440 0h160v-160H620v160Z\"/>\n",
              "  </svg>\n",
              "    </button>\n",
              "\n",
              "  <style>\n",
              "    .colab-df-container {\n",
              "      display:flex;\n",
              "      gap: 12px;\n",
              "    }\n",
              "\n",
              "    .colab-df-convert {\n",
              "      background-color: #E8F0FE;\n",
              "      border: none;\n",
              "      border-radius: 50%;\n",
              "      cursor: pointer;\n",
              "      display: none;\n",
              "      fill: #1967D2;\n",
              "      height: 32px;\n",
              "      padding: 0 0 0 0;\n",
              "      width: 32px;\n",
              "    }\n",
              "\n",
              "    .colab-df-convert:hover {\n",
              "      background-color: #E2EBFA;\n",
              "      box-shadow: 0px 1px 2px rgba(60, 64, 67, 0.3), 0px 1px 3px 1px rgba(60, 64, 67, 0.15);\n",
              "      fill: #174EA6;\n",
              "    }\n",
              "\n",
              "    .colab-df-buttons div {\n",
              "      margin-bottom: 4px;\n",
              "    }\n",
              "\n",
              "    [theme=dark] .colab-df-convert {\n",
              "      background-color: #3B4455;\n",
              "      fill: #D2E3FC;\n",
              "    }\n",
              "\n",
              "    [theme=dark] .colab-df-convert:hover {\n",
              "      background-color: #434B5C;\n",
              "      box-shadow: 0px 1px 3px 1px rgba(0, 0, 0, 0.15);\n",
              "      filter: drop-shadow(0px 1px 2px rgba(0, 0, 0, 0.3));\n",
              "      fill: #FFFFFF;\n",
              "    }\n",
              "  </style>\n",
              "\n",
              "    <script>\n",
              "      const buttonEl =\n",
              "        document.querySelector('#df-512f2af1-8e68-4bd5-ae47-a21370467df5 button.colab-df-convert');\n",
              "      buttonEl.style.display =\n",
              "        google.colab.kernel.accessAllowed ? 'block' : 'none';\n",
              "\n",
              "      async function convertToInteractive(key) {\n",
              "        const element = document.querySelector('#df-512f2af1-8e68-4bd5-ae47-a21370467df5');\n",
              "        const dataTable =\n",
              "          await google.colab.kernel.invokeFunction('convertToInteractive',\n",
              "                                                    [key], {});\n",
              "        if (!dataTable) return;\n",
              "\n",
              "        const docLinkHtml = 'Like what you see? Visit the ' +\n",
              "          '<a target=\"_blank\" href=https://colab.research.google.com/notebooks/data_table.ipynb>data table notebook</a>'\n",
              "          + ' to learn more about interactive tables.';\n",
              "        element.innerHTML = '';\n",
              "        dataTable['output_type'] = 'display_data';\n",
              "        await google.colab.output.renderOutput(dataTable, element);\n",
              "        const docLink = document.createElement('div');\n",
              "        docLink.innerHTML = docLinkHtml;\n",
              "        element.appendChild(docLink);\n",
              "      }\n",
              "    </script>\n",
              "  </div>\n",
              "\n",
              "\n",
              "    <div id=\"df-e837dbd6-0f07-41bd-8666-4e22ffe42511\">\n",
              "      <button class=\"colab-df-quickchart\" onclick=\"quickchart('df-e837dbd6-0f07-41bd-8666-4e22ffe42511')\"\n",
              "                title=\"Suggest charts\"\n",
              "                style=\"display:none;\">\n",
              "\n",
              "<svg xmlns=\"http://www.w3.org/2000/svg\" height=\"24px\"viewBox=\"0 0 24 24\"\n",
              "     width=\"24px\">\n",
              "    <g>\n",
              "        <path d=\"M19 3H5c-1.1 0-2 .9-2 2v14c0 1.1.9 2 2 2h14c1.1 0 2-.9 2-2V5c0-1.1-.9-2-2-2zM9 17H7v-7h2v7zm4 0h-2V7h2v10zm4 0h-2v-4h2v4z\"/>\n",
              "    </g>\n",
              "</svg>\n",
              "      </button>\n",
              "\n",
              "<style>\n",
              "  .colab-df-quickchart {\n",
              "      --bg-color: #E8F0FE;\n",
              "      --fill-color: #1967D2;\n",
              "      --hover-bg-color: #E2EBFA;\n",
              "      --hover-fill-color: #174EA6;\n",
              "      --disabled-fill-color: #AAA;\n",
              "      --disabled-bg-color: #DDD;\n",
              "  }\n",
              "\n",
              "  [theme=dark] .colab-df-quickchart {\n",
              "      --bg-color: #3B4455;\n",
              "      --fill-color: #D2E3FC;\n",
              "      --hover-bg-color: #434B5C;\n",
              "      --hover-fill-color: #FFFFFF;\n",
              "      --disabled-bg-color: #3B4455;\n",
              "      --disabled-fill-color: #666;\n",
              "  }\n",
              "\n",
              "  .colab-df-quickchart {\n",
              "    background-color: var(--bg-color);\n",
              "    border: none;\n",
              "    border-radius: 50%;\n",
              "    cursor: pointer;\n",
              "    display: none;\n",
              "    fill: var(--fill-color);\n",
              "    height: 32px;\n",
              "    padding: 0;\n",
              "    width: 32px;\n",
              "  }\n",
              "\n",
              "  .colab-df-quickchart:hover {\n",
              "    background-color: var(--hover-bg-color);\n",
              "    box-shadow: 0 1px 2px rgba(60, 64, 67, 0.3), 0 1px 3px 1px rgba(60, 64, 67, 0.15);\n",
              "    fill: var(--button-hover-fill-color);\n",
              "  }\n",
              "\n",
              "  .colab-df-quickchart-complete:disabled,\n",
              "  .colab-df-quickchart-complete:disabled:hover {\n",
              "    background-color: var(--disabled-bg-color);\n",
              "    fill: var(--disabled-fill-color);\n",
              "    box-shadow: none;\n",
              "  }\n",
              "\n",
              "  .colab-df-spinner {\n",
              "    border: 2px solid var(--fill-color);\n",
              "    border-color: transparent;\n",
              "    border-bottom-color: var(--fill-color);\n",
              "    animation:\n",
              "      spin 1s steps(1) infinite;\n",
              "  }\n",
              "\n",
              "  @keyframes spin {\n",
              "    0% {\n",
              "      border-color: transparent;\n",
              "      border-bottom-color: var(--fill-color);\n",
              "      border-left-color: var(--fill-color);\n",
              "    }\n",
              "    20% {\n",
              "      border-color: transparent;\n",
              "      border-left-color: var(--fill-color);\n",
              "      border-top-color: var(--fill-color);\n",
              "    }\n",
              "    30% {\n",
              "      border-color: transparent;\n",
              "      border-left-color: var(--fill-color);\n",
              "      border-top-color: var(--fill-color);\n",
              "      border-right-color: var(--fill-color);\n",
              "    }\n",
              "    40% {\n",
              "      border-color: transparent;\n",
              "      border-right-color: var(--fill-color);\n",
              "      border-top-color: var(--fill-color);\n",
              "    }\n",
              "    60% {\n",
              "      border-color: transparent;\n",
              "      border-right-color: var(--fill-color);\n",
              "    }\n",
              "    80% {\n",
              "      border-color: transparent;\n",
              "      border-right-color: var(--fill-color);\n",
              "      border-bottom-color: var(--fill-color);\n",
              "    }\n",
              "    90% {\n",
              "      border-color: transparent;\n",
              "      border-bottom-color: var(--fill-color);\n",
              "    }\n",
              "  }\n",
              "</style>\n",
              "\n",
              "      <script>\n",
              "        async function quickchart(key) {\n",
              "          const quickchartButtonEl =\n",
              "            document.querySelector('#' + key + ' button');\n",
              "          quickchartButtonEl.disabled = true;  // To prevent multiple clicks.\n",
              "          quickchartButtonEl.classList.add('colab-df-spinner');\n",
              "          try {\n",
              "            const charts = await google.colab.kernel.invokeFunction(\n",
              "                'suggestCharts', [key], {});\n",
              "          } catch (error) {\n",
              "            console.error('Error during call to suggestCharts:', error);\n",
              "          }\n",
              "          quickchartButtonEl.classList.remove('colab-df-spinner');\n",
              "          quickchartButtonEl.classList.add('colab-df-quickchart-complete');\n",
              "        }\n",
              "        (() => {\n",
              "          let quickchartButtonEl =\n",
              "            document.querySelector('#df-e837dbd6-0f07-41bd-8666-4e22ffe42511 button');\n",
              "          quickchartButtonEl.style.display =\n",
              "            google.colab.kernel.accessAllowed ? 'block' : 'none';\n",
              "        })();\n",
              "      </script>\n",
              "    </div>\n",
              "\n",
              "  <div id=\"id_faff3cb8-e461-4c80-b85c-ef4b1d3cd516\">\n",
              "    <style>\n",
              "      .colab-df-generate {\n",
              "        background-color: #E8F0FE;\n",
              "        border: none;\n",
              "        border-radius: 50%;\n",
              "        cursor: pointer;\n",
              "        display: none;\n",
              "        fill: #1967D2;\n",
              "        height: 32px;\n",
              "        padding: 0 0 0 0;\n",
              "        width: 32px;\n",
              "      }\n",
              "\n",
              "      .colab-df-generate:hover {\n",
              "        background-color: #E2EBFA;\n",
              "        box-shadow: 0px 1px 2px rgba(60, 64, 67, 0.3), 0px 1px 3px 1px rgba(60, 64, 67, 0.15);\n",
              "        fill: #174EA6;\n",
              "      }\n",
              "\n",
              "      [theme=dark] .colab-df-generate {\n",
              "        background-color: #3B4455;\n",
              "        fill: #D2E3FC;\n",
              "      }\n",
              "\n",
              "      [theme=dark] .colab-df-generate:hover {\n",
              "        background-color: #434B5C;\n",
              "        box-shadow: 0px 1px 3px 1px rgba(0, 0, 0, 0.15);\n",
              "        filter: drop-shadow(0px 1px 2px rgba(0, 0, 0, 0.3));\n",
              "        fill: #FFFFFF;\n",
              "      }\n",
              "    </style>\n",
              "    <button class=\"colab-df-generate\" onclick=\"generateWithVariable('df_data')\"\n",
              "            title=\"Generate code using this dataframe.\"\n",
              "            style=\"display:none;\">\n",
              "\n",
              "  <svg xmlns=\"http://www.w3.org/2000/svg\" height=\"24px\"viewBox=\"0 0 24 24\"\n",
              "       width=\"24px\">\n",
              "    <path d=\"M7,19H8.4L18.45,9,17,7.55,7,17.6ZM5,21V16.75L18.45,3.32a2,2,0,0,1,2.83,0l1.4,1.43a1.91,1.91,0,0,1,.58,1.4,1.91,1.91,0,0,1-.58,1.4L9.25,21ZM18.45,9,17,7.55Zm-12,3A5.31,5.31,0,0,0,4.9,8.1,5.31,5.31,0,0,0,1,6.5,5.31,5.31,0,0,0,4.9,4.9,5.31,5.31,0,0,0,6.5,1,5.31,5.31,0,0,0,8.1,4.9,5.31,5.31,0,0,0,12,6.5,5.46,5.46,0,0,0,6.5,12Z\"/>\n",
              "  </svg>\n",
              "    </button>\n",
              "    <script>\n",
              "      (() => {\n",
              "      const buttonEl =\n",
              "        document.querySelector('#id_faff3cb8-e461-4c80-b85c-ef4b1d3cd516 button.colab-df-generate');\n",
              "      buttonEl.style.display =\n",
              "        google.colab.kernel.accessAllowed ? 'block' : 'none';\n",
              "\n",
              "      buttonEl.onclick = () => {\n",
              "        google.colab.notebook.generateWithVariable('df_data');\n",
              "      }\n",
              "      })();\n",
              "    </script>\n",
              "  </div>\n",
              "\n",
              "    </div>\n",
              "  </div>\n"
            ],
            "application/vnd.google.colaboratory.intrinsic+json": {
              "type": "dataframe",
              "variable_name": "df_data",
              "summary": "{\n  \"name\": \"df_data\",\n  \"rows\": 13,\n  \"fields\": [\n    {\n      \"column\": \"Usuario\",\n      \"properties\": {\n        \"dtype\": \"string\",\n        \"num_unique_values\": 13,\n        \"samples\": [\n          \"Felipe\",\n          \"Rodrigo\",\n          \"Karen\"\n        ],\n        \"semantic_type\": \"\",\n        \"description\": \"\"\n      }\n    },\n    {\n      \"column\": \"P1\",\n      \"properties\": {\n        \"dtype\": \"category\",\n        \"num_unique_values\": 3,\n        \"samples\": [\n          \"Cena\",\n          \"Almuerzo\",\n          \"Desayuno\"\n        ],\n        \"semantic_type\": \"\",\n        \"description\": \"\"\n      }\n    },\n    {\n      \"column\": \"P2\",\n      \"properties\": {\n        \"dtype\": \"category\",\n        \"num_unique_values\": 3,\n        \"samples\": [\n          \"Baloncesto\",\n          \"Tennis\",\n          \"F\\u00fatbol\"\n        ],\n        \"semantic_type\": \"\",\n        \"description\": \"\"\n      }\n    },\n    {\n      \"column\": \"P3\",\n      \"properties\": {\n        \"dtype\": \"category\",\n        \"num_unique_values\": 3,\n        \"samples\": [\n          \"Crep\\u00fasculo\",\n          \"Toma el control de tu vida\",\n          \"El arte de la guerra\"\n        ],\n        \"semantic_type\": \"\",\n        \"description\": \"\"\n      }\n    },\n    {\n      \"column\": \"P4\",\n      \"properties\": {\n        \"dtype\": \"category\",\n        \"num_unique_values\": 4,\n        \"samples\": [\n          \"Caos en california\",\n          \"One peace\",\n          \"Los cien\"\n        ],\n        \"semantic_type\": \"\",\n        \"description\": \"\"\n      }\n    }\n  ]\n}"
            }
          },
          "metadata": {},
          "execution_count": 4
        }
      ]
    },
    {
      "cell_type": "code",
      "source": [
        "for enunciado in data:\n",
        "  print(enunciado)"
      ],
      "metadata": {
        "colab": {
          "base_uri": "https://localhost:8080/"
        },
        "id": "BapeET5b0WLM",
        "outputId": "675e3378-95d9-4487-d2da-44306943026b"
      },
      "execution_count": null,
      "outputs": [
        {
          "output_type": "stream",
          "name": "stdout",
          "text": [
            "Usuario\n",
            "P1\n",
            "P2\n",
            "P3\n",
            "P4\n"
          ]
        }
      ]
    },
    {
      "cell_type": "markdown",
      "source": [
        "Creo un diccionario llamado codificacion1, luego itero sobre las keys del diccionario del dataset a partir de las respuestas de la pregunta 1 (P1), extraigo los valores únicos de las respuestas de la pregunta 1, y así para cada una de las siguientes 3 preguntas. Finalmente me queda un diccionario cuyas keys son P1,...,P4 indicando las preguntas 1,..,4 respectivamente teniendo como valores una lista con las respuestas únicas de cada pregunta."
      ],
      "metadata": {
        "id": "HyRExGZ0vmuG"
      }
    },
    {
      "cell_type": "code",
      "source": [
        "codificacion1 ={}\n",
        "contador = -1\n",
        "for enunciado in data:\n",
        "  contador += 1\n",
        "  if contador > 0:\n",
        "    valores = np.unique_values(data[enunciado])\n",
        "    codificacion1[enunciado] = valores.tolist()\n",
        "\n",
        "print(codificacion1)\n",
        "\n"
      ],
      "metadata": {
        "colab": {
          "base_uri": "https://localhost:8080/"
        },
        "id": "ZpKRdje72pOs",
        "outputId": "82bce639-4f07-40b4-cc27-257a2ea8f83c"
      },
      "execution_count": null,
      "outputs": [
        {
          "output_type": "stream",
          "name": "stdout",
          "text": [
            "{'P1': ['Almuerzo', 'Cena', 'Desayuno'], 'P2': ['Baloncesto', 'Fútbol', 'Tennis'], 'P3': ['Crepúsculo', 'El arte de la guerra', 'Toma el control de tu vida'], 'P4': ['Caos en california', 'Dragon ball', 'Los cien', 'One peace']}\n"
          ]
        }
      ]
    },
    {
      "cell_type": "markdown",
      "source": [
        "Creo otro diccionario llamado codificacion2, itero por el diccionario codificacion1 asignandole un valor numerico a cada respuesta de cada pregunta, ejemplo: entro a la pregunta 1 y a cada respuesta le asigno un numero consecutivo iniciando por el 1 hasta la cantidad de respuestas únicas que haya."
      ],
      "metadata": {
        "id": "kn7NtP62wUYr"
      }
    },
    {
      "cell_type": "code",
      "source": [
        "codificacion2 = {}\n",
        "for enunciado in codificacion1:\n",
        "  contador = 1\n",
        "  lista = []\n",
        "  for valores in codificacion1[enunciado]:\n",
        "    lista.append(contador)\n",
        "    codificacion2[enunciado] = lista\n",
        "    contador += 1\n",
        "print(codificacion2)\n",
        "\n",
        "\n"
      ],
      "metadata": {
        "colab": {
          "base_uri": "https://localhost:8080/"
        },
        "id": "SdMNoZ0z4r5F",
        "outputId": "80070534-f6ef-4504-f4fa-4dffe660afd4"
      },
      "execution_count": null,
      "outputs": [
        {
          "output_type": "stream",
          "name": "stdout",
          "text": [
            "{'P1': [1, 2, 3], 'P2': [1, 2, 3], 'P3': [1, 2, 3], 'P4': [1, 2, 3, 4]}\n"
          ]
        }
      ]
    },
    {
      "cell_type": "markdown",
      "source": [
        "Resultado: Respuesta en texto junto a su codificación"
      ],
      "metadata": {
        "id": "mWNHioMAlWFH"
      }
    },
    {
      "cell_type": "code",
      "source": [
        "for enunciado in codificacion2:\n",
        "  print(f'Enunciado: {enunciado}, Respuesta: {codificacion1[enunciado]}, Codificacion: {codificacion2[enunciado]}')"
      ],
      "metadata": {
        "colab": {
          "base_uri": "https://localhost:8080/"
        },
        "id": "c72-B4NG-oob",
        "outputId": "64fc66da-f606-47ed-d6e5-5471d6767ee8"
      },
      "execution_count": null,
      "outputs": [
        {
          "output_type": "stream",
          "name": "stdout",
          "text": [
            "Enunciado: P1, Respuesta: ['Almuerzo', 'Cena', 'Desayuno'], Codificacion: [1, 2, 3]\n",
            "Enunciado: P2, Respuesta: ['Baloncesto', 'Fútbol', 'Tennis'], Codificacion: [1, 2, 3]\n",
            "Enunciado: P3, Respuesta: ['Crepúsculo', 'El arte de la guerra', 'Toma el control de tu vida'], Codificacion: [1, 2, 3]\n",
            "Enunciado: P4, Respuesta: ['Caos en california', 'Dragon ball', 'Los cien', 'One peace'], Codificacion: [1, 2, 3, 4]\n"
          ]
        }
      ]
    },
    {
      "cell_type": "markdown",
      "source": [
        "Este es otro modo de asignarle valores numericos a cada respuesta de cada pregunta, incluso es mucho más cómodo."
      ],
      "metadata": {
        "id": "Jkfj5Re9w8JL"
      }
    },
    {
      "cell_type": "code",
      "source": [
        "dic_codigo_respuestas = {}\n",
        "for enunciado in codificacion1:\n",
        "  contador = 1\n",
        "  for valores in codificacion1[enunciado]:\n",
        "    dic_codigo_respuestas[valores] = contador\n",
        "    contador += 1\n",
        "print(dic_codigo_respuestas)"
      ],
      "metadata": {
        "colab": {
          "base_uri": "https://localhost:8080/"
        },
        "id": "XgHkXfzt_5g6",
        "outputId": "bd90a62f-dada-451b-e6db-5f1f665e3475"
      },
      "execution_count": null,
      "outputs": [
        {
          "output_type": "stream",
          "name": "stdout",
          "text": [
            "{'Almuerzo': 1, 'Cena': 2, 'Desayuno': 3, 'Baloncesto': 1, 'Fútbol': 2, 'Tennis': 3, 'Crepúsculo': 1, 'El arte de la guerra': 2, 'Toma el control de tu vida': 3, 'Caos en california': 1, 'Dragon ball': 2, 'Los cien': 3, 'One peace': 4}\n"
          ]
        }
      ]
    },
    {
      "cell_type": "markdown",
      "source": [
        "Con este código genero los vectores a partir del diccionario cuyas keys son las respuestas y sus valores son los números."
      ],
      "metadata": {
        "id": "dz-KGSKTxJ7L"
      }
    },
    {
      "cell_type": "code",
      "source": [
        "dic_vectores = {}\n",
        "for i in range(len(data['Usuario'])):\n",
        "  usuario = data[\"Usuario\"][i]\n",
        "  p1 = data[\"P1\"][i]\n",
        "  p2 = data[\"P2\"][i]\n",
        "  p3 = data[\"P3\"][i]\n",
        "  p4 = data[\"P4\"][i]\n",
        "  p1_code = dic_codigo_respuestas[p1]\n",
        "  p2_code = dic_codigo_respuestas[p2]\n",
        "  p3_code = dic_codigo_respuestas[p3]\n",
        "  p4_code = dic_codigo_respuestas[p4]\n",
        "\n",
        "  dic_vectores[usuario] = [p1_code, p2_code, p3_code, p4_code]\n",
        "print(dic_vectores)"
      ],
      "metadata": {
        "colab": {
          "base_uri": "https://localhost:8080/"
        },
        "id": "nMaw8DrPE_PS",
        "outputId": "51268ae6-0b79-4a81-fab8-d6f49ee381cc"
      },
      "execution_count": null,
      "outputs": [
        {
          "output_type": "stream",
          "name": "stdout",
          "text": [
            "{'Karen': [2, 1, 1, 3], 'Camila': [2, 1, 1, 1], 'Juan': [1, 3, 3, 3], 'Javier': [1, 2, 3, 2], 'Esmeralda': [1, 3, 3, 4], 'Martín': [2, 3, 2, 1], 'Javiera': [3, 1, 3, 3], 'Tomás': [2, 3, 2, 4], 'Cristhian': [3, 1, 3, 4], 'Rodrigo': [3, 3, 1, 1], 'Luciano': [3, 1, 2, 2], 'Felipe': [3, 2, 1, 1], 'Ricardo': [1, 2, 3, 2]}\n"
          ]
        }
      ]
    },
    {
      "cell_type": "markdown",
      "source": [
        "Con este código genero los vectores a partir de la cruza del diccionario codificación1 y codificación2"
      ],
      "metadata": {
        "id": "fy7LnDxZxVOa"
      }
    },
    {
      "cell_type": "code",
      "source": [
        "dic_vectores2 = {}\n",
        "for i in range(len(data['Usuario'])):\n",
        "  usuario = data[\"Usuario\"][i]\n",
        "  p1 = data[\"P1\"][i]\n",
        "  p2 = data[\"P2\"][i]\n",
        "  p3 = data[\"P3\"][i]\n",
        "  p4 = data[\"P4\"][i]\n",
        "  p1_code = codificacion2['P1'][codificacion1['P1'].index(p1)]\n",
        "  p2_code = codificacion2['P2'][codificacion1['P2'].index(p2)]\n",
        "  p3_code = codificacion2['P3'][codificacion1['P3'].index(p3)]\n",
        "  p4_code = codificacion2['P4'][codificacion1['P4'].index(p4)]\n",
        "\n",
        "  dic_vectores2[usuario] = [p1_code, p2_code, p3_code, p4_code]\n",
        "print(dic_vectores2)"
      ],
      "metadata": {
        "colab": {
          "base_uri": "https://localhost:8080/"
        },
        "id": "nf0W1bNEGk1d",
        "outputId": "0f2ca633-a927-4e31-9864-2d092cb5edc7"
      },
      "execution_count": null,
      "outputs": [
        {
          "output_type": "stream",
          "name": "stdout",
          "text": [
            "{'Karen': [2, 1, 1, 3], 'Camila': [2, 1, 1, 1], 'Juan': [1, 3, 3, 3], 'Javier': [1, 2, 3, 2], 'Esmeralda': [1, 3, 3, 4], 'Martín': [2, 3, 2, 1], 'Javiera': [3, 1, 3, 3], 'Tomás': [2, 3, 2, 4], 'Cristhian': [3, 1, 3, 4], 'Rodrigo': [3, 3, 1, 1], 'Luciano': [3, 1, 2, 2], 'Felipe': [3, 2, 1, 1], 'Ricardo': [1, 2, 3, 2]}\n"
          ]
        }
      ]
    },
    {
      "cell_type": "markdown",
      "source": [
        "Creo una lista con los nombres o perfiles"
      ],
      "metadata": {
        "id": "NtloV2SBxkIj"
      }
    },
    {
      "cell_type": "code",
      "source": [
        "lista_usuarios = list(dic_vectores.keys())\n",
        "lista_usuarios"
      ],
      "metadata": {
        "colab": {
          "base_uri": "https://localhost:8080/"
        },
        "id": "AXkNmC-2TV9z",
        "outputId": "a27ea5e9-3340-4d3a-b3da-127a33060368"
      },
      "execution_count": null,
      "outputs": [
        {
          "output_type": "execute_result",
          "data": {
            "text/plain": [
              "['Karen',\n",
              " 'Camila',\n",
              " 'Juan',\n",
              " 'Javier',\n",
              " 'Esmeralda',\n",
              " 'Martín',\n",
              " 'Javiera',\n",
              " 'Tomás',\n",
              " 'Cristhian',\n",
              " 'Rodrigo',\n",
              " 'Luciano',\n",
              " 'Felipe',\n",
              " 'Ricardo']"
            ]
          },
          "metadata": {},
          "execution_count": 12
        }
      ]
    },
    {
      "cell_type": "markdown",
      "source": [
        "# Se calcula la distancia euclidiana de cada perfil hacia los demás y se conforma en una matriz de distancias"
      ],
      "metadata": {
        "id": "i8ZngNK9xoz6"
      }
    },
    {
      "cell_type": "code",
      "source": [
        "matriz_distancias = []\n",
        "\n",
        "for u1 in lista_usuarios:\n",
        "  fila = []\n",
        "  for u2 in lista_usuarios:\n",
        "    v1 = dic_vectores[u1]\n",
        "    v2 = dic_vectores[u2]\n",
        "    if u1 == u2:\n",
        "      distancia = 0.0\n",
        "    else:\n",
        "      suma_cuadrados = 0\n",
        "      for i in range(len(v1)):\n",
        "        suma_cuadrados += (v1[i] - v2[i])**2\n",
        "      distancia = suma_cuadrados**0.5\n",
        "    fila.append(round(distancia,2))\n",
        "  matriz_distancias.append(fila)\n",
        "print(matriz_distancias)\n"
      ],
      "metadata": {
        "colab": {
          "base_uri": "https://localhost:8080/"
        },
        "id": "e27ghdt3Td2C",
        "outputId": "7e23780a-877d-4f5e-e763-7d69defd89e3"
      },
      "execution_count": null,
      "outputs": [
        {
          "output_type": "stream",
          "name": "stdout",
          "text": [
            "[[0.0, 2.0, 3.0, 2.65, 3.16, 3.0, 2.24, 2.45, 2.45, 3.0, 1.73, 2.45, 2.65], [2.0, 0.0, 3.61, 2.65, 4.24, 2.24, 3.0, 3.74, 3.74, 2.24, 1.73, 1.41, 2.65], [3.0, 3.61, 0.0, 1.41, 1.0, 2.45, 2.83, 1.73, 3.0, 3.46, 3.16, 3.61, 1.41], [2.65, 2.65, 1.41, 0.0, 2.24, 2.0, 2.45, 2.65, 3.0, 3.16, 2.45, 3.0, 0.0], [3.16, 4.24, 1.0, 2.24, 0.0, 3.32, 3.0, 1.41, 2.83, 4.12, 3.61, 4.24, 2.24], [3.0, 2.24, 2.45, 2.0, 3.32, 0.0, 3.16, 3.0, 3.87, 1.41, 2.45, 1.73, 2.0], [2.24, 3.0, 2.83, 2.45, 3.0, 3.16, 0.0, 2.65, 1.0, 3.46, 1.41, 3.0, 2.45], [2.45, 3.74, 1.73, 2.65, 1.41, 3.0, 2.65, 0.0, 2.45, 3.32, 3.0, 3.46, 2.65], [2.45, 3.74, 3.0, 3.0, 2.83, 3.87, 1.0, 2.45, 0.0, 4.12, 2.24, 3.74, 3.0], [3.0, 2.24, 3.46, 3.16, 4.12, 1.41, 3.46, 3.32, 4.12, 0.0, 2.45, 1.0, 3.16], [1.73, 1.73, 3.16, 2.45, 3.61, 2.45, 1.41, 3.0, 2.24, 2.45, 0.0, 1.73, 2.45], [2.45, 1.41, 3.61, 3.0, 4.24, 1.73, 3.0, 3.46, 3.74, 1.0, 1.73, 0.0, 3.0], [2.65, 2.65, 1.41, 0.0, 2.24, 2.0, 2.45, 2.65, 3.0, 3.16, 2.45, 3.0, 0.0]]\n"
          ]
        }
      ]
    },
    {
      "cell_type": "markdown",
      "source": [
        "Se printea la matriz de forma visualmente agradable"
      ],
      "metadata": {
        "id": "cLPdZbhsxxmq"
      }
    },
    {
      "cell_type": "code",
      "source": [
        "# Imprimir encabezado\n",
        "print(\" \" * 12 + \"  \".join(f\"{u:10}\" for u in lista_usuarios))\n",
        "\n",
        "# Imprimir cada fila con etiqueta\n",
        "for i, fila in enumerate(matriz_distancias):\n",
        "    print(f\"{lista_usuarios[i]:10}  \" + \"  \".join(f\"{dist:10.2f}\" for dist in fila))"
      ],
      "metadata": {
        "colab": {
          "base_uri": "https://localhost:8080/"
        },
        "id": "gKQi_CQSZUjx",
        "outputId": "e6e146f2-44e7-4939-ef66-427ff67b9eec"
      },
      "execution_count": null,
      "outputs": [
        {
          "output_type": "stream",
          "name": "stdout",
          "text": [
            "            Karen       Camila      Juan        Javier      Esmeralda   Martín      Javiera     Tomás       Cristhian   Rodrigo     Luciano     Felipe      Ricardo   \n",
            "Karen             0.00        2.00        3.00        2.65        3.16        3.00        2.24        2.45        2.45        3.00        1.73        2.45        2.65\n",
            "Camila            2.00        0.00        3.61        2.65        4.24        2.24        3.00        3.74        3.74        2.24        1.73        1.41        2.65\n",
            "Juan              3.00        3.61        0.00        1.41        1.00        2.45        2.83        1.73        3.00        3.46        3.16        3.61        1.41\n",
            "Javier            2.65        2.65        1.41        0.00        2.24        2.00        2.45        2.65        3.00        3.16        2.45        3.00        0.00\n",
            "Esmeralda         3.16        4.24        1.00        2.24        0.00        3.32        3.00        1.41        2.83        4.12        3.61        4.24        2.24\n",
            "Martín            3.00        2.24        2.45        2.00        3.32        0.00        3.16        3.00        3.87        1.41        2.45        1.73        2.00\n",
            "Javiera           2.24        3.00        2.83        2.45        3.00        3.16        0.00        2.65        1.00        3.46        1.41        3.00        2.45\n",
            "Tomás             2.45        3.74        1.73        2.65        1.41        3.00        2.65        0.00        2.45        3.32        3.00        3.46        2.65\n",
            "Cristhian         2.45        3.74        3.00        3.00        2.83        3.87        1.00        2.45        0.00        4.12        2.24        3.74        3.00\n",
            "Rodrigo           3.00        2.24        3.46        3.16        4.12        1.41        3.46        3.32        4.12        0.00        2.45        1.00        3.16\n",
            "Luciano           1.73        1.73        3.16        2.45        3.61        2.45        1.41        3.00        2.24        2.45        0.00        1.73        2.45\n",
            "Felipe            2.45        1.41        3.61        3.00        4.24        1.73        3.00        3.46        3.74        1.00        1.73        0.00        3.00\n",
            "Ricardo           2.65        2.65        1.41        0.00        2.24        2.00        2.45        2.65        3.00        3.16        2.45        3.00        0.00\n"
          ]
        }
      ]
    },
    {
      "cell_type": "markdown",
      "source": [
        "Función que calcula los k vecinos más cercanos a partir de la matriz de distancias"
      ],
      "metadata": {
        "id": "BIXN03_wx4lT"
      }
    },
    {
      "cell_type": "code",
      "source": [
        "def vecinos_mas_cercanos(nombre_objetivo, k, usuarios, matriz_distancias):\n",
        "    if nombre_objetivo not in usuarios:\n",
        "        raise ValueError(f\"Usuario '{nombre_objetivo}' no encontrado.\")\n",
        "\n",
        "    # Índice del usuario objetivo\n",
        "    i = usuarios.index(nombre_objetivo)\n",
        "\n",
        "    # Obtener todas las distancias desde el usuario objetivo hacia los demás\n",
        "    distancias = matriz_distancias[i]\n",
        "\n",
        "    # Crear lista de tuplas (usuario, distancia), excluyendo a sí mismo\n",
        "    vecinos = []\n",
        "    for j, distancia in enumerate(distancias):\n",
        "        if j != i:\n",
        "            vecinos.append((usuarios[j], distancia))\n",
        "\n",
        "    # Ordenar por distancia (de menor a mayor)\n",
        "    vecinos.sort(key=lambda x: x[1])\n",
        "\n",
        "    # Retornar los k vecinos más cercanos\n",
        "    return vecinos[:k]"
      ],
      "metadata": {
        "id": "4ebSM2tJcH-R"
      },
      "execution_count": null,
      "outputs": []
    },
    {
      "cell_type": "markdown",
      "source": [
        "Ejecuto la función de los k vecinos para obtener los resultados a partir de la matriz de distancias"
      ],
      "metadata": {
        "id": "etuT0XqqyCwK"
      }
    },
    {
      "cell_type": "code",
      "source": [
        "perfil_objetivo = input(\"Escriba el nombre del perfil: \")\n",
        "k_vecinos = int(input(\"Escriba la cantidad de vecinos: \"))\n",
        "\n",
        "resultado = vecinos_mas_cercanos(perfil_objetivo, k_vecinos, lista_usuarios, matriz_distancias)\n",
        "\n",
        "print(f'Perfiles más parecidos a {perfil_objetivo}:')\n",
        "for nombre, distancia in resultado:\n",
        "    print(f\"- {nombre} (distancia: {distancia})\")\n"
      ],
      "metadata": {
        "colab": {
          "base_uri": "https://localhost:8080/"
        },
        "id": "CMH3agC1cT0Q",
        "outputId": "f1e2ed51-ea71-422f-b272-369ce393ebed"
      },
      "execution_count": null,
      "outputs": [
        {
          "output_type": "stream",
          "name": "stdout",
          "text": [
            "Escriba el nombre del perfil: Karen\n",
            "Escriba la cantidad de vecinos: 4\n",
            "Perfiles más parecidos a Karen:\n",
            "- Luciano (distancia: 1.73)\n",
            "- Camila (distancia: 2.0)\n",
            "- Javiera (distancia: 2.24)\n",
            "- Tomás (distancia: 2.45)\n"
          ]
        }
      ]
    },
    {
      "cell_type": "markdown",
      "source": [
        "# Realizo cálculo de matriz de similitud a partir de la matriz de distancias con el fin de obtener valores de similitud entre 0 y 1, esta matriz indica la cercanía que hay entre cada perfil."
      ],
      "metadata": {
        "id": "ltrL-BlC5ANO"
      }
    },
    {
      "cell_type": "markdown",
      "source": [
        "![image.png](data:image/png;base64,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)"
      ],
      "metadata": {
        "id": "T3r1Ez6vD7GQ"
      }
    },
    {
      "cell_type": "code",
      "source": [
        "# Calcular la distancia máxima en la matriz\n",
        "max_distancia = max(max(fila) for fila in matriz_distancias)\n",
        "\n",
        "# Generar la matriz de similitud\n",
        "matriz_similitud = []\n",
        "\n",
        "for fila in matriz_distancias:\n",
        "    fila_similitud = []\n",
        "    for distancia in fila:\n",
        "        if max_distancia == 0:\n",
        "            similitud = 1.0  # Todos son iguales\n",
        "        else:\n",
        "            similitud = 1 - (distancia / max_distancia)\n",
        "        fila_similitud.append(round(similitud, 3))\n",
        "    matriz_similitud.append(fila_similitud)\n",
        "\n",
        "# Imprimir matriz de similitud (opcional)\n",
        "print(\"Matriz de similitud:\")\n",
        "for fila in matriz_similitud:\n",
        "    print(fila)\n"
      ],
      "metadata": {
        "colab": {
          "base_uri": "https://localhost:8080/"
        },
        "id": "Z_9mdFZv5OAd",
        "outputId": "bc97d767-dbda-4828-c6e2-416f67e601df"
      },
      "execution_count": null,
      "outputs": [
        {
          "output_type": "stream",
          "name": "stdout",
          "text": [
            "Matriz de similitud:\n",
            "[1.0, 0.528, 0.292, 0.375, 0.255, 0.292, 0.472, 0.422, 0.422, 0.292, 0.592, 0.422, 0.375]\n",
            "[0.528, 1.0, 0.149, 0.375, 0.0, 0.472, 0.292, 0.118, 0.118, 0.472, 0.592, 0.667, 0.375]\n",
            "[0.292, 0.149, 1.0, 0.667, 0.764, 0.422, 0.333, 0.592, 0.292, 0.184, 0.255, 0.149, 0.667]\n",
            "[0.375, 0.375, 0.667, 1.0, 0.472, 0.528, 0.422, 0.375, 0.292, 0.255, 0.422, 0.292, 1.0]\n",
            "[0.255, 0.0, 0.764, 0.472, 1.0, 0.217, 0.292, 0.667, 0.333, 0.028, 0.149, 0.0, 0.472]\n",
            "[0.292, 0.472, 0.422, 0.528, 0.217, 1.0, 0.255, 0.292, 0.087, 0.667, 0.422, 0.592, 0.528]\n",
            "[0.472, 0.292, 0.333, 0.422, 0.292, 0.255, 1.0, 0.375, 0.764, 0.184, 0.667, 0.292, 0.422]\n",
            "[0.422, 0.118, 0.592, 0.375, 0.667, 0.292, 0.375, 1.0, 0.422, 0.217, 0.292, 0.184, 0.375]\n",
            "[0.422, 0.118, 0.292, 0.292, 0.333, 0.087, 0.764, 0.422, 1.0, 0.028, 0.472, 0.118, 0.292]\n",
            "[0.292, 0.472, 0.184, 0.255, 0.028, 0.667, 0.184, 0.217, 0.028, 1.0, 0.422, 0.764, 0.255]\n",
            "[0.592, 0.592, 0.255, 0.422, 0.149, 0.422, 0.667, 0.292, 0.472, 0.422, 1.0, 0.592, 0.422]\n",
            "[0.422, 0.667, 0.149, 0.292, 0.0, 0.592, 0.292, 0.184, 0.118, 0.764, 0.592, 1.0, 0.292]\n",
            "[0.375, 0.375, 0.667, 1.0, 0.472, 0.528, 0.422, 0.375, 0.292, 0.255, 0.422, 0.292, 1.0]\n"
          ]
        }
      ]
    },
    {
      "cell_type": "markdown",
      "source": [
        "Imprimo la matriz de similitud de forma visualmente agradable"
      ],
      "metadata": {
        "id": "WVOvYXMxEJsC"
      }
    },
    {
      "cell_type": "code",
      "source": [
        "# Imprimir encabezado\n",
        "print(\" \" * 12 + \"  \".join(f\"{u:10}\" for u in lista_usuarios))\n",
        "\n",
        "# Imprimir cada fila con etiqueta\n",
        "for i, fila in enumerate(matriz_similitud):\n",
        "    print(f\"{lista_usuarios[i]:10}  \" + \"  \".join(f\"{sim:10.2f}\" for sim in fila))\n"
      ],
      "metadata": {
        "colab": {
          "base_uri": "https://localhost:8080/"
        },
        "id": "CgkIPeSG5hAF",
        "outputId": "e352785c-3a51-4d30-8236-854bf2deb86b"
      },
      "execution_count": null,
      "outputs": [
        {
          "output_type": "stream",
          "name": "stdout",
          "text": [
            "            Karen       Camila      Juan        Javier      Esmeralda   Martín      Javiera     Tomás       Cristhian   Rodrigo     Luciano     Felipe      Ricardo   \n",
            "Karen             1.00        0.53        0.29        0.38        0.26        0.29        0.47        0.42        0.42        0.29        0.59        0.42        0.38\n",
            "Camila            0.53        1.00        0.15        0.38        0.00        0.47        0.29        0.12        0.12        0.47        0.59        0.67        0.38\n",
            "Juan              0.29        0.15        1.00        0.67        0.76        0.42        0.33        0.59        0.29        0.18        0.26        0.15        0.67\n",
            "Javier            0.38        0.38        0.67        1.00        0.47        0.53        0.42        0.38        0.29        0.26        0.42        0.29        1.00\n",
            "Esmeralda         0.26        0.00        0.76        0.47        1.00        0.22        0.29        0.67        0.33        0.03        0.15        0.00        0.47\n",
            "Martín            0.29        0.47        0.42        0.53        0.22        1.00        0.26        0.29        0.09        0.67        0.42        0.59        0.53\n",
            "Javiera           0.47        0.29        0.33        0.42        0.29        0.26        1.00        0.38        0.76        0.18        0.67        0.29        0.42\n",
            "Tomás             0.42        0.12        0.59        0.38        0.67        0.29        0.38        1.00        0.42        0.22        0.29        0.18        0.38\n",
            "Cristhian         0.42        0.12        0.29        0.29        0.33        0.09        0.76        0.42        1.00        0.03        0.47        0.12        0.29\n",
            "Rodrigo           0.29        0.47        0.18        0.26        0.03        0.67        0.18        0.22        0.03        1.00        0.42        0.76        0.26\n",
            "Luciano           0.59        0.59        0.26        0.42        0.15        0.42        0.67        0.29        0.47        0.42        1.00        0.59        0.42\n",
            "Felipe            0.42        0.67        0.15        0.29        0.00        0.59        0.29        0.18        0.12        0.76        0.59        1.00        0.29\n",
            "Ricardo           0.38        0.38        0.67        1.00        0.47        0.53        0.42        0.38        0.29        0.26        0.42        0.29        1.00\n"
          ]
        }
      ]
    },
    {
      "cell_type": "markdown",
      "source": [
        "Función que calculo a los k vecinos más cercanos a partir de la matriz de similitud"
      ],
      "metadata": {
        "id": "zVrURMv8ETVJ"
      }
    },
    {
      "cell_type": "code",
      "source": [
        "def vecinos_mas_similares(nombre_objetivo, k, usuarios, matriz_similitud):\n",
        "    if nombre_objetivo not in usuarios:\n",
        "        raise ValueError(f\"Usuario '{nombre_objetivo}' no encontrado.\")\n",
        "\n",
        "    i = usuarios.index(nombre_objetivo)\n",
        "    similitudes = matriz_similitud[i]\n",
        "\n",
        "    vecinos = []\n",
        "    for j, similitud in enumerate(similitudes):\n",
        "        if j != i:\n",
        "            vecinos.append((usuarios[j], similitud))\n",
        "\n",
        "    # Ordenar por similitud de mayor a menor\n",
        "    vecinos.sort(key=lambda x: x[1], reverse=True)\n",
        "\n",
        "    return vecinos[:k]\n"
      ],
      "metadata": {
        "id": "kKMmE5Jv5q8d"
      },
      "execution_count": null,
      "outputs": []
    },
    {
      "cell_type": "markdown",
      "source": [
        "Función que grafica los k vecinos más cercanos del perfil seleccionado"
      ],
      "metadata": {
        "id": "Zv5hje2qEdix"
      }
    },
    {
      "cell_type": "code",
      "source": [
        "import matplotlib.pyplot as plt\n",
        "\n",
        "def graficar_similitud_vecinos(perfil_objetivo, vecinos_similares):\n",
        "    \"\"\"\n",
        "    Dibuja un gráfico de barras horizontales con los k vecinos más similares.\n",
        "\n",
        "    - perfil_objetivo: str, nombre del usuario base\n",
        "    - vecinos_similares: lista de tuplas (usuario, similitud)\n",
        "    \"\"\"\n",
        "    nombres = [nombre for nombre, _ in vecinos_similares]\n",
        "    similitudes = [sim for _, sim in vecinos_similares]\n",
        "\n",
        "    plt.figure(figsize=(10, 6))\n",
        "    plt.barh(nombres, similitudes, color=\"blue\")\n",
        "    plt.xlabel(\"Similitud\")\n",
        "    plt.title(f\"Similitud de los {len(vecinos_similares)} vecinos más parecidos a {perfil_objetivo}\")\n",
        "    plt.gca().invert_yaxis()\n",
        "    plt.tight_layout()\n",
        "    plt.show()"
      ],
      "metadata": {
        "id": "IEkZZnkoEcof"
      },
      "execution_count": null,
      "outputs": []
    },
    {
      "cell_type": "markdown",
      "source": [
        "Código que llama a la función de calculo de vecinos y gráfico"
      ],
      "metadata": {
        "id": "mPV22NOuEtP1"
      }
    },
    {
      "cell_type": "code",
      "source": [
        "perfil_objetivo = input(\"Escriba el nombre del perfil: \")\n",
        "k_vecinos = int(input(\"Escriba la cantidad de vecinos: \"))\n",
        "\n",
        "resultado = vecinos_mas_similares(perfil_objetivo, k_vecinos, lista_usuarios, matriz_similitud)\n",
        "\n",
        "print(f'Perfiles más similares a {perfil_objetivo}:')\n",
        "for nombre, similitud in resultado:\n",
        "    print(f\"- {nombre} (similitud: {similitud})\")\n",
        "\n",
        "#---------------------------------------------------------------------------------------------------\n",
        "# Mostrar gráfico\n",
        "graficar_similitud_vecinos(perfil_objetivo, resultado)\n"
      ],
      "metadata": {
        "colab": {
          "base_uri": "https://localhost:8080/",
          "height": 773
        },
        "id": "3LGOQT9e53vo",
        "outputId": "b8fce0b5-5eb6-4273-b582-2d7a8500cef2"
      },
      "execution_count": null,
      "outputs": [
        {
          "output_type": "stream",
          "name": "stdout",
          "text": [
            "Escriba el nombre del perfil: Ricardo\n",
            "Escriba la cantidad de vecinos: 6\n",
            "Perfiles más similares a Ricardo:\n",
            "- Javier (similitud: 1.0)\n",
            "- Juan (similitud: 0.667)\n",
            "- Martín (similitud: 0.528)\n",
            "- Esmeralda (similitud: 0.472)\n",
            "- Javiera (similitud: 0.422)\n",
            "- Luciano (similitud: 0.422)\n"
          ]
        },
        {
          "output_type": "display_data",
          "data": {
            "text/plain": [
              "<Figure size 1000x600 with 1 Axes>"
            ],
            "image/png": "[encoded data removed]"
          },
          "metadata": {}
        }
      ]
    },
    {
      "cell_type": "markdown",
      "source": [
        "Mapa de calor de matriz de similitud (Útil cuando hay pocos perfiles)"
      ],
      "metadata": {
        "id": "22mLu8yzFDHo"
      }
    },
    {
      "cell_type": "code",
      "source": [
        "import seaborn as sns\n",
        "import matplotlib.pyplot as plt\n",
        "\n",
        "# Crear el mapa de calor\n",
        "plt.figure(figsize=(10, 8))\n",
        "sns.heatmap(matriz_similitud, xticklabels=lista_usuarios, yticklabels=lista_usuarios, cmap=\"YlGnBu\", annot=True)\n",
        "\n",
        "plt.title(\"Mapa de calor de la matriz de similitud\")\n",
        "plt.xlabel(\"Usuarios\")\n",
        "plt.ylabel(\"Usuarios\")\n",
        "plt.tight_layout()\n",
        "plt.show()\n"
      ],
      "metadata": {
        "colab": {
          "base_uri": "https://localhost:8080/",
          "height": 807
        },
        "id": "ARDcyVxJ6GDv",
        "outputId": "ae64e733-765c-4bf1-b554-6f99a4344b93"
      },
      "execution_count": null,
      "outputs": [
        {
          "output_type": "display_data",
          "data": {
            "text/plain": [
              "<Figure size 1000x800 with 2 Axes>"
            ],
            "image/png": "[encoded data removed]"
          },
          "metadata": {}
        }
      ]
    }
  ]
}